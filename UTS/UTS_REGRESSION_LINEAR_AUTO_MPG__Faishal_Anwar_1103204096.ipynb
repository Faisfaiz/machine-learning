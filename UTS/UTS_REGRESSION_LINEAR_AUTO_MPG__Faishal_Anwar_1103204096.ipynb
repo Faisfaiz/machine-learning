{
  "cells": [
    {
      "cell_type": "markdown",
      "metadata": {
        "id": "view-in-github",
        "colab_type": "text"
      },
      "source": [
        "<a href=\"https://colab.research.google.com/github/Faisfaiz/machine-learning/blob/main/UTS/UTS_REGRESSION_LINEAR_AUTO_MPG__Faishal_Anwar_1103204096.ipynb\" target=\"_parent\"><img src=\"https://colab.research.google.com/assets/colab-badge.svg\" alt=\"Open In Colab\"/></a>"
      ]
    },
    {
      "cell_type": "markdown",
      "metadata": {
        "id": "gtp6ijlJJbZh"
      },
      "source": [
        "UTS REGRESSION LINEAR AUTO MPG\n",
        "Nama: Faishal Anwar\n",
        "\n",
        "Nim: 1103204096\n",
        "\n",
        "Dataset: auto mpg\n",
        "\n",
        "Model: Linier Regression"
      ]
    },
    {
      "cell_type": "markdown",
      "metadata": {
        "id": "7xEcO1j2GvQW"
      },
      "source": [
        "**MENAMPILKAN DATA**"
      ]
    },
    {
      "cell_type": "code",
      "execution_count": null,
      "metadata": {
        "colab": {
          "background_save": true,
          "base_uri": "https://localhost:8080/",
          "height": 417
        },
        "id": "uogUnlrQEvsl",
        "outputId": "f5b6b80c-aade-4c40-de1d-78c28fdda7f6"
      },
      "outputs": [
        {
          "name": "stdout",
          "output_type": "stream",
          "text": [
            "    MPG  Cylinders  Displacement Horsepower  Weight  Acceleration  Model Year  \\\n",
            "0  18.0          8         307.0      130.0  3504.0          12.0          70   \n",
            "1  15.0          8         350.0      165.0  3693.0          11.5          70   \n",
            "2  18.0          8         318.0      150.0  3436.0          11.0          70   \n",
            "3  16.0          8         304.0      150.0  3433.0          12.0          70   \n",
            "4  17.0          8         302.0      140.0  3449.0          10.5          70   \n",
            "\n",
            "   Origin                   Car Name  \n",
            "0       1  chevrolet chevelle malibu  \n",
            "1       1          buick skylark 320  \n",
            "2       1         plymouth satellite  \n",
            "3       1              amc rebel sst  \n",
            "4       1                ford torino  \n"
          ]
        }
      ],
      "source": [
        "# Impor pustaka yang diperlukan\n",
        "import pandas as pd\n",
        "import matplotlib.pyplot as plt\n",
        "from sklearn.model_selection import train_test_split\n",
        "from sklearn.linear_model import LinearRegression\n",
        "from sklearn import metrics\n",
        "\n",
        "# Unduh dataset AutoMPG dari internet atau gunakan dataset yang sudah Anda miliki\n",
        "# Di sini, saya menggunakan dataset AutoMPG dari UCI Machine Learning Repository\n",
        "url = \"https://archive.ics.uci.edu/ml/machine-learning-databases/auto-mpg/auto-mpg.data\"\n",
        "column_names = ['MPG', 'Cylinders', 'Displacement', 'Horsepower', 'Weight', 'Acceleration', 'Model Year', 'Origin', 'Car Name']\n",
        "df = pd.read_csv(url, delim_whitespace=True, names=column_names)\n",
        "\n",
        "# Tampilkan informasi dasar tentang dataset\n",
        "print(df.head())\n",
        "\n",
        "\n"
      ]
    },
    {
      "cell_type": "markdown",
      "metadata": {
        "id": "sHFUVAC7HTgm"
      },
      "source": [
        "**EDA**\n",
        "\n",
        "EDA atau Exploratory Data Analysis (Analisis Data Eksploratif) adalah suatu pendekatan untuk menganalisis dan merangkum karakteristik utama dari dataset secara visual dan deskriptif. Tujuan dari EDA adalah untuk memahami struktur dataset, mengidentifikasi pola, melihat hubungan antar variabel, dan menemukan wawasan yang dapat membimbing analisis lebih lanjut."
      ]
    },
    {
      "cell_type": "code",
      "execution_count": null,
      "metadata": {
        "id": "QFEtkJcmHAKM"
      },
      "outputs": [],
      "source": [
        "#Misalnya, kita ingin menganalisis hubungan antara 'Horsepower' dan 'MPG'\n",
        "\n",
        "# Visualisasi scatter plot\n",
        "plt.scatter(df['Horsepower'], df['MPG'])\n",
        "plt.title('Scatter Plot Horsepower vs MPG')\n",
        "plt.xlabel('Horsepower')\n",
        "plt.ylabel('MPG')\n",
        "plt.show()\n",
        "\n",
        "# Ganti nilai '?' dengan NaN dan ubah tipe data kolom 'Horsepower' menjadi float\n",
        "df['Horsepower'] = pd.to_numeric(df['Horsepower'], errors='coerce')\n",
        "\n",
        "# Ganti nilai NaN dengan nilai rata-rata\n",
        "df['Horsepower'].fillna(df['Horsepower'].mean(), inplace=True)\n",
        "\n",
        "# Pisahkan data menjadi variabel independen (X) dan variabel dependen (y)\n",
        "X = df[['Horsepower']]\n",
        "y = df['MPG']\n",
        "\n",
        "# Bagi dataset menjadi data latih dan data uji\n",
        "X_train, X_test, y_train, y_test = train_test_split(X, y, test_size=0.2, random_state=42)\n",
        "\n",
        "# Inisialisasi model regresi linear\n",
        "model = LinearRegression()\n",
        "\n",
        "# Latih model pada data latih\n",
        "model.fit(X_train, y_train)\n",
        "\n",
        "# Prediksi nilai MPG pada data uji\n",
        "y_pred = model.predict(X_test)\n",
        "\n",
        "# Visualisasi hasil regresi linear\n",
        "plt.scatter(X_test, y_test, color='black')\n",
        "plt.plot(X_test, y_pred, color='blue', linewidth=3)\n",
        "plt.title('Linear Regression: Horsepower vs MPG')\n",
        "plt.xlabel('Horsepower')\n",
        "plt.ylabel('MPG')\n",
        "plt.show()\n",
        "\n",
        "# Evaluasi performa model\n",
        "print('Mean Absolute Error:', metrics.mean_absolute_error(y_test, y_pred))\n",
        "print('Mean Squared Error:', metrics.mean_squared_error(y_test, y_pred))\n",
        "print('Root Mean Squared Error:', metrics.mean_squared_error(y_test, y_pred, squared=False))"
      ]
    },
    {
      "cell_type": "markdown",
      "metadata": {
        "id": "quaEF1w3Hw2n"
      },
      "source": [
        "Mari kita jelaskan hasil dari setiap bagian kode:\n",
        "\n",
        "1. **Scatter Plot Horsepower vs MPG:**\n",
        "   - Ini adalah scatter plot yang menunjukkan hubungan antara Horsepower dan MPG sebelum melakukan perubahan apa pun pada data. Scatter plot ini memberikan gambaran visual awal tentang sebaran data.\n",
        "\n",
        "2. **Penggantian Nilai '?' dan Perubahan Tipe Data:**\n",
        "   - Pada bagian ini, nilai-nilai yang awalnya berupa '?' diubah menjadi NaN (Not a Number) menggunakan fungsi `pd.to_numeric` dengan parameter `errors='coerce'`. Kemudian, tipe data kolom 'Horsepower' diubah menjadi float. Ini dilakukan untuk memastikan bahwa nilai-nilai tersebut dapat digunakan dalam model regresi linear.\n",
        "\n",
        "3. **Penggantian NaN dengan Nilai Rata-rata:**\n",
        "   - Nilai NaN pada kolom 'Horsepower' diganti dengan nilai rata-rata dari kolom tersebut. Ini adalah salah satu metode untuk menangani nilai yang hilang atau tidak valid.\n",
        "\n",
        "4. **Pembuatan Variabel Independen dan Variabel Dependen:**\n",
        "   - Data dipecah menjadi variabel independen (X) dan variabel dependen (y). Dalam kasus ini, 'Horsepower' adalah variabel independen, dan 'MPG' adalah variabel dependen.\n",
        "\n",
        "5. **Pembagian Data Menjadi Data Latih dan Data Uji:**\n",
        "   - Data dibagi menjadi data latih dan data uji menggunakan `train_test_split`. Ini diperlukan untuk melatih model pada data latih dan menguji kinerjanya pada data uji yang tidak terlihat sebelumnya.\n",
        "\n",
        "6. **Inisialisasi dan Pelatihan Model Regresi Linear:**\n",
        "   - Model regresi linear diinisialisasi menggunakan `LinearRegression()` dari scikit-learn. Kemudian, model tersebut dilatih pada data latih menggunakan metode `fit`.\n",
        "\n",
        "7. **Visualisasi Hasil Regresi Linear:**\n",
        "   - Scatter plot data uji (titik hitam) ditampilkan bersama dengan garis regresi linear (garis biru) yang dihasilkan oleh model. Ini memberikan gambaran visual tentang seberapa baik model memetakan hubungan antara 'Horsepower' dan 'MPG'.\n",
        "\n",
        "8. **Evaluasi Performa Model:**\n",
        "   - Metrik evaluasi performa model, seperti Mean Absolute Error (MAE), Mean Squared Error (MSE), dan Root Mean Squared Error (RMSE), dicetak. Ini memberikan insight tentang seberapa baik model ini melakukan prediksi pada data uji.\n",
        "\n",
        "Secara keseluruhan, output dan visualisasi yang dihasilkan memberikan gambaran lengkap tentang analisis EDA dan model regresi linear pada dataset 'AutoMPG'."
      ]
    },
    {
      "cell_type": "markdown",
      "metadata": {
        "id": "zA-bF8TBGoHk"
      },
      "source": [
        "**DATA VISUALISASI**"
      ]
    },
    {
      "cell_type": "markdown",
      "metadata": {
        "id": "RYWeRo3zIrUS"
      },
      "source": [
        "Data visualization (visualisasi data) adalah proses representasi data dalam bentuk visual, seperti grafik, diagram, peta, atau plot, agar informasi dari data tersebut dapat lebih mudah dipahami dan diinterpretasikan. Tujuan dari data visualization adalah untuk menyampaikan wawasan yang terkandung dalam data dengan cara yang jelas dan efektif."
      ]
    },
    {
      "cell_type": "markdown",
      "metadata": {
        "id": "jwK6IA6iIwDi"
      },
      "source": [
        "**prompt chat gpt**\n",
        "buatkan kode data visualisasi\n"
      ]
    },
    {
      "cell_type": "code",
      "execution_count": null,
      "metadata": {
        "id": "Zb3uJfoWFLwP"
      },
      "outputs": [],
      "source": [
        "\n",
        "# Visualisasi scatter plot dengan seaborn\n",
        "sns.scatterplot(x=X_test['Horsepower'], y=y_test, color='black')\n",
        "sns.regplot(x=X_test['Horsepower'], y=y_pred, color='blue', scatter=False)\n",
        "plt.title('Linear Regression: Horsepower vs MPG')\n",
        "plt.xlabel('Horsepower')\n",
        "plt.ylabel('MPG')\n",
        "plt.show()\n",
        "\n",
        "# Visualisasi distribusi residual\n",
        "residuals = y_test - y_pred\n",
        "sns.histplot(residuals, kde=True, color='green')\n",
        "plt.title('Distribution of Residuals')\n",
        "plt.xlabel('Residuals')\n",
        "plt.ylabel('Frequency')\n",
        "plt.show()\n"
      ]
    },
    {
      "cell_type": "markdown",
      "metadata": {
        "id": "pWfBvE6fIMaU"
      },
      "source": [
        "OUTPUT:\n",
        "\n",
        "1. **Scatter Plot dengan Seaborn:**\n",
        "   - Scatter plot pertama menunjukkan sebaran data uji ('Horsepower' vs 'MPG'). Titik-titik hitam mewakili nilai sebenarnya dari data uji, sedangkan garis regresi linear (garis biru) menunjukkan prediksi yang dihasilkan oleh model untuk data uji tersebut. Scatter plot ini memberikan gambaran visual tentang seberapa baik model memetakan hubungan antara 'Horsepower' dan 'MPG'.\n",
        "\n",
        "2. **Visualisasi Distribusi Residual:**\n",
        "   - Histogram kedua menunjukkan distribusi residual, yaitu perbedaan antara nilai sebenarnya ('y_test') dan nilai prediksi ('y_pred'). Jika distribusi residual mendekati distribusi normal, ini menunjukkan bahwa model regresi linear memodelkan dengan baik variasi dalam data. Dalam hal ini, kita melihat distribusi residual dengan menggunakan histogram dan kurva kepadatan kernel (KDE). Histogram ini memberikan insight tentang seberapa baik model mengatasi variabilitas yang tidak dapat dijelaskan oleh fitur 'Horsepower' dan apakah distribusi residual cenderung normal atau tidak.\n",
        "\n",
        "Kedua visualisasi ini membantu dalam memahami seberapa baik model regresi linear kita bekerja pada data uji dan apakah ada pola atau tren tertentu yang dapat diidentifikasi. Scatter plot memberikan gambaran visual langsung, sementara distribusi residual membantu memahami sisa variabilitas dalam prediksi model."
      ]
    },
    {
      "cell_type": "markdown",
      "metadata": {
        "id": "7R5WTLpZJFhV"
      },
      "source": []
    },
    {
      "cell_type": "markdown",
      "metadata": {
        "id": "iYvbRuqcGkX6"
      },
      "source": [
        "**DATA TRAINING**"
      ]
    },
    {
      "cell_type": "markdown",
      "metadata": {
        "id": "9kaGFvLDJNrV"
      },
      "source": [
        "Training menggunakan regresi linear adalah proses di mana model regresi linear belajar dari data untuk menyesuaikan parameter-parameter (koefisien dan intercept) sehingga dapat memodelkan hubungan linier antara variabel input dan variabel target. Dalam konteks regresi linear, model mencoba mempelajari garis atau permukaan linear yang paling baik mewakili pola dalam data."
      ]
    },
    {
      "cell_type": "markdown",
      "metadata": {
        "id": "jHNNHS-NJOoB"
      },
      "source": [
        "berikan code training untuk menyesuaikan parameter-parameter (koefisien dan intercept) sehingga dapat memodelkan hubungan linier antara variabel input dan variabel target dengan dataframe diatas"
      ]
    },
    {
      "cell_type": "code",
      "execution_count": null,
      "metadata": {
        "id": "bvP8kQhxFWsJ"
      },
      "outputs": [],
      "source": [
        "# Visualisasi scatter plot data latih dengan seaborn\n",
        "sns.scatterplot(x=X_train['Horsepower'], y=y_train, color='black')\n",
        "sns.regplot(x=X_train['Horsepower'], y=model.predict(X_train), color='blue', scatter=False)\n",
        "plt.title('Linear Regression: Horsepower vs MPG (Training Data)')\n",
        "plt.xlabel('Horsepower')\n",
        "plt.ylabel('MPG')\n",
        "plt.show()\n"
      ]
    },
    {
      "cell_type": "markdown",
      "metadata": {
        "id": "7ccPY151IWOW"
      },
      "source": [
        "Visualisasi ini adalah scatter plot dari data latih ('Horsepower' vs 'MPG') dengan menggunakan seaborn. Mari kita jelaskan setiap elemen dalam visualisasi ini:\n",
        "\n",
        "1. **Scatter Plot Data Latih:**\n",
        "   - Titik-titik hitam pada scatter plot mewakili nilai 'Horsepower' dan 'MPG' dari data latih. Setiap titik merepresentasikan satu sampel dalam data latih.\n",
        "\n",
        "2. **Garis Regresi Linear:**\n",
        "   - Garis biru pada scatter plot adalah garis regresi linear yang dihasilkan oleh model berdasarkan data latih. Garis ini mencoba memetakan hubungan antara variabel independen ('Horsepower') dan variabel dependen ('MPG').\n",
        "\n",
        "3. **Judul dan Label Axis:**\n",
        "   - Judul grafik diberi judul \"Linear Regression: Horsepower vs MPG (Training Data)\". Ini memberikan konteks bahwa ini adalah visualisasi dari data latih dan menunjukkan hubungan antara 'Horsepower' dan 'MPG' menggunakan regresi linear.\n",
        "   - Label sumbu x dan y menyediakan informasi tentang variabel yang mewakili sumbu tersebut.\n",
        "\n",
        "Visualisasi ini membantu memahami bagaimana model regresi linear kita cocok dengan data latih. Jika garis regresi linear ini cocok dengan baik dengan pola data latih, ini menunjukkan bahwa model kita dapat menangkap hubungan yang relevan dalam data tersebut. Scatter plot ini memberikan gambaran visual langsung tentang distribusi data latih dan bagaimana model berperilaku di dalamnya."
      ]
    },
    {
      "cell_type": "markdown",
      "metadata": {
        "id": "lJQpFZtmGdi6"
      },
      "source": [
        "**DATA EVALUATING**"
      ]
    },
    {
      "cell_type": "code",
      "execution_count": null,
      "metadata": {
        "id": "CIxmi6X4FxGS"
      },
      "outputs": [],
      "source": [
        "# Evaluasi performa model pada data uji\n",
        "print('Mean Absolute Error:', metrics.mean_absolute_error(y_test, y_pred))\n",
        "print('Mean Squared Error:', metrics.mean_squared_error(y_test, y_pred))\n",
        "print('Root Mean Squared Error:', metrics.mean_squared_error(y_test, y_pred, squared=False))\n",
        "\n",
        "# Visualisasi hasil regresi linear pada data uji\n",
        "plt.scatter(X_test, y_test, color='black')\n",
        "plt.plot(X_test, y_pred, color='blue', linewidth=3)\n",
        "plt.title('Linear Regression: Horsepower vs MPG (Testing Data)')\n",
        "plt.xlabel('Horsepower')\n",
        "plt.ylabel('MPG')\n",
        "plt.show()\n"
      ]
    },
    {
      "cell_type": "markdown",
      "metadata": {
        "id": "kcQm2ybjIeK1"
      },
      "source": [
        "1. **Evaluasi Performa Model pada Data Uji:**\n",
        "   - Output ini mencetak nilai dari tiga metrik evaluasi performa regresi linear pada data uji:\n",
        "     - **Mean Absolute Error (MAE):** Ini adalah rata-rata dari selisih absolut antara nilai sebenarnya dan nilai prediksi. Semakin rendah nilai MAE, semakin baik performa model.\n",
        "     - **Mean Squared Error (MSE):** Ini adalah rata-rata dari kuadrat selisih antara nilai sebenarnya dan nilai prediksi. Semakin rendah nilai MSE, semakin baik performa model. Namun, MSE cenderung memberikan bobot lebih besar pada kesalahan besar.\n",
        "     - **Root Mean Squared Error (RMSE):** Ini adalah akar kuadrat dari MSE dan memberikan interpretasi yang lebih intuitif karena memiliki satuan yang sama dengan variabel tergantung. Semakin rendah nilai RMSE, semakin baik performa model.\n",
        "\n",
        "2. **Visualisasi Hasil Regresi Linear pada Data Uji:**\n",
        "   - Scatter plot ini menunjukkan data uji (titik hitam) bersama dengan garis regresi linear (garis biru) yang dihasilkan oleh model. Scatter plot ini memberikan gambaran visual tentang seberapa baik model memetakan hubungan antara 'Horsepower' dan 'MPG' pada data uji. Jika garis regresi linear ini sesuai dengan pola data uji, ini menunjukkan bahwa model dapat menggeneralisasi dengan baik pada data yang tidak terlihat sebelumnya.\n",
        "\n",
        "Dengan menggunakan output evaluasi dan visualisasi ini, Anda dapat menilai seberapa baik model regresi linear Anda berkinerja pada data uji dan seberapa baik model tersebut dapat digunakan untuk memprediksi 'MPG' berdasarkan 'Horsepower' pada data baru. Semakin kecil nilai kesalahan, semakin baik performa model pada data uji."
      ]
    },
    {
      "cell_type": "markdown",
      "metadata": {
        "id": "sFyEBRN3GU_i"
      },
      "source": [
        "**INPUTING NEW DATA**"
      ]
    },
    {
      "cell_type": "markdown",
      "metadata": {
        "id": "fNlm6G-wJW3c"
      },
      "source": [
        "Data baru dapat digunakan untuk mengukur seberapa baik model dapat melakukan prediksi pada situasi yang tidak pernah dilihat sebelumnya. Ini membantu dalam mengevaluasi kinerja model secara umum dan memastikan bahwa model dapat memberikan hasil yang baik pada data yang tidak terlihat selama pelatihan."
      ]
    },
    {
      "cell_type": "markdown",
      "metadata": {
        "id": "qL0HV3gkJZ3I"
      },
      "source": []
    },
    {
      "cell_type": "code",
      "execution_count": null,
      "metadata": {
        "id": "nixfx6PuGMEW"
      },
      "outputs": [],
      "source": [
        "# Misalnya, kita ingin memprediksi MPG untuk Horsepower baru\n",
        "new_horsepower = 150  # Ganti nilai ini dengan Horsepower baru yang ingin diprediksi\n",
        "\n",
        "# Lakukan prediksi MPG untuk Horsepower baru\n",
        "predicted_mpg = model.predict([[new_horsepower]])\n",
        "\n",
        "# Tampilkan hasil prediksi\n",
        "print(f'Predicted MPG for Horsepower {new_horsepower}: {predicted_mpg[0]:.2f} MPG')\n"
      ]
    },
    {
      "cell_type": "markdown",
      "metadata": {
        "id": "TbzsWMueIlgB"
      },
      "source": [
        "Output ini adalah hasil dari prediksi model untuk nilai 'MPG' berdasarkan nilai 'Horsepower' baru yang diberikan. Mari kita jelaskan setiap bagian output:\n",
        "\n",
        "1. **Input Horsepower Baru:**\n",
        "   - `new_horsepower = 150`: Ini adalah nilai 'Horsepower' baru yang ingin diprediksi 'MPG'-nya. Dalam contoh ini, kita memilih nilai 'Horsepower' sebesar 150.\n",
        "\n",
        "2. **Prediksi MPG:**\n",
        "   - `predicted_mpg = model.predict([[new_horsepower]])`: Model regresi linear digunakan untuk memprediksi nilai 'MPG' berdasarkan nilai 'Horsepower' baru. Hasilnya disimpan dalam variabel `predicted_mpg`.\n",
        "\n",
        "3. **Tampilkan Hasil Prediksi:**\n",
        "   - `print(f'Predicted MPG for Horsepower {new_horsepower}: {predicted_mpg[0]:.2f} MPG')`: Ini mencetak hasil prediksi. Pesan ini memberikan informasi tentang nilai 'MPG' yang diprediksi untuk 'Horsepower' yang baru. `{predicted_mpg[0]:.2f}` berarti nilai 'MPG' yang diprediksi akan ditampilkan dengan dua angka desimal.\n",
        "\n",
        "Sebagai contoh, jika 'Horsepower' yang baru adalah 150, output akan memberikan nilai 'MPG' yang diprediksi untuk 'Horsepower' tersebut. Output ini memberikan insight tentang bagaimana model dapat digunakan untuk membuat prediksi untuk nilai 'MPG' baru berdasarkan nilai 'Horsepower' yang tidak terlihat sebelumnya."
      ]
    },
    {
      "cell_type": "code",
      "execution_count": null,
      "metadata": {
        "id": "xKfeaS24GL1u"
      },
      "outputs": [],
      "source": []
    }
  ],
  "metadata": {
    "colab": {
      "provenance": [],
      "authorship_tag": "ABX9TyMP8H8gAlTPpTl0VaNSVLkK",
      "include_colab_link": true
    },
    "kernelspec": {
      "display_name": "Python 3",
      "name": "python3"
    },
    "language_info": {
      "name": "python"
    }
  },
  "nbformat": 4,
  "nbformat_minor": 0
}