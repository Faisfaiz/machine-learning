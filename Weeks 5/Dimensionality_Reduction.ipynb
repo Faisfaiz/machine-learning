{
  "nbformat": 4,
  "nbformat_minor": 0,
  "metadata": {
    "colab": {
      "provenance": [],
      "include_colab_link": true
    },
    "kernelspec": {
      "name": "python3",
      "display_name": "Python 3"
    },
    "language_info": {
      "name": "python"
    }
  },
  "cells": [
    {
      "cell_type": "markdown",
      "metadata": {
        "id": "view-in-github",
        "colab_type": "text"
      },
      "source": [
        "<a href=\"https://colab.research.google.com/github/Faisfaiz/machine-learning/blob/main/Weeks%205/Dimensionality_Reduction.ipynb\" target=\"_parent\"><img src=\"https://colab.research.google.com/assets/colab-badge.svg\" alt=\"Open In Colab\"/></a>"
      ]
    },
    {
      "cell_type": "markdown",
      "source": [
        "Faishal Anwar\n",
        "1103204096\n",
        "iris Classification using decission tree with dimensionality reduction"
      ],
      "metadata": {
        "id": "6qyISZdQMCHC"
      }
    },
    {
      "cell_type": "code",
      "execution_count": 1,
      "metadata": {
        "id": "uTgy5FllMBNt"
      },
      "outputs": [],
      "source": [
        "# Mengimpor modul datasets dari library sklearn untuk mengakses dataset yang disediakan.\n",
        "from sklearn import datasets\n",
        "\n",
        "# Mengimpor modul train_test_split dari library sklearn untuk membagi dataset menjadi data latih dan data uji.\n",
        "from sklearn.model_selection import train_test_split\n",
        "\n",
        "# Mengimpor modul PCA (Principal Component Analysis) dari library sklearn untuk analisis reduksi dimensi.\n",
        "from sklearn.decomposition import PCA\n",
        "\n",
        "# Mengimpor modul tree dari library sklearn untuk membangun model pohon keputusan.\n",
        "from sklearn import tree\n"
      ]
    },
    {
      "cell_type": "code",
      "source": [
        "# Memuat dataset Iris dari modul datasets yang telah diimpor sebelumnya.\n",
        "iris = datasets.load_iris()\n",
        "\n",
        "# Mengambil atribut (fitur) dari dataset Iris dan menyimpannya dalam variabel 'atribut'.\n",
        "atribut = iris.data\n",
        "\n",
        "# Mengambil label (kelas) dari dataset Iris dan menyimpannya dalam variabel 'label'.\n",
        "label = iris.target"
      ],
      "metadata": {
        "id": "qmIuH6wnMJiS"
      },
      "execution_count": 2,
      "outputs": []
    },
    {
      "cell_type": "code",
      "source": [
        "jumlah_baris = len(atribut)\n",
        "print (\"Jumlah baris dalam dataset iris\", jumlah_baris)"
      ],
      "metadata": {
        "colab": {
          "base_uri": "https://localhost:8080/"
        },
        "id": "4gt5MYzWMJmv",
        "outputId": "2fc6e55e-8d53-48f2-c526-be9653e92761"
      },
      "execution_count": 3,
      "outputs": [
        {
          "output_type": "stream",
          "name": "stdout",
          "text": [
            "Jumlah baris dalam dataset iris 150\n"
          ]
        }
      ]
    },
    {
      "cell_type": "code",
      "source": [
        "# bagi dataset menjadi train set dan test set\n",
        "X_train, X_test, y_train, y_test = train_test_split(\n",
        "    atribut, label, test_size=0.2)"
      ],
      "metadata": {
        "id": "lMkAnMEhMJra"
      },
      "execution_count": 4,
      "outputs": []
    },
    {
      "cell_type": "code",
      "source": [
        "\n",
        "# Membuat objek DecisionTreeClassifier dari modul tree yang telah diimpor sebelumnya.\n",
        "decision_tree = tree.DecisionTreeClassifier()\n",
        "\n",
        "# Melatih model pertama dengan data latih (X_train dan y_train) menggunakan DecisionTreeClassifier.\n",
        "model_pertama = decision_tree.fit(X_train, y_train)\n",
        "\n",
        "# Menghitung dan mencetak skor (akurasi) model pertama pada data uji (X_test dan y_test).\n",
        "akurasi_model_pertama = model_pertama.score(X_test, y_test)\n",
        "print(\"Akurasi Model Pertama:\", akurasi_model_pertama)\n"
      ],
      "metadata": {
        "colab": {
          "base_uri": "https://localhost:8080/"
        },
        "id": "jtIeN0H-MJvN",
        "outputId": "3762c3b4-4bf0-4d4b-dac0-616931ac564c"
      },
      "execution_count": 5,
      "outputs": [
        {
          "output_type": "stream",
          "name": "stdout",
          "text": [
            "Akurasi Model Pertama: 0.8666666666666667\n"
          ]
        }
      ]
    },
    {
      "cell_type": "code",
      "source": [
        "#membuat objek PCA dengan 4 principal component\n",
        "pca = PCA(n_components=4)\n",
        "\n",
        "#mengaplikasikan PCA pada dataset\n",
        "pca_attributes = pca.fit_transform(X_train)\n",
        "\n",
        "#melihat variance dari setiap atribut\n",
        "pca.explained_variance_ratio_"
      ],
      "metadata": {
        "colab": {
          "base_uri": "https://localhost:8080/"
        },
        "id": "ehE46hkcOv14",
        "outputId": "bb75056b-b0b9-44e8-faf7-8bc8bc42b1a1"
      },
      "execution_count": 6,
      "outputs": [
        {
          "output_type": "execute_result",
          "data": {
            "text/plain": [
              "array([0.92688035, 0.0506926 , 0.01705485, 0.00537219])"
            ]
          },
          "metadata": {},
          "execution_count": 6
        }
      ]
    },
    {
      "cell_type": "code",
      "source": [
        "# Membuat objek PCA (Principal Component Analysis) dengan 2 komponen utama dari modul PCA yang telah diimpor sebelumnya.\n",
        "pca = PCA(n_components=2)\n",
        "\n",
        "# Mengaplikasikan analisis PCA pada data latih (X_train) dan menyimpan hasilnya di 'X_train_pca'.\n",
        "X_train_pca = pca.fit_transform(X_train)\n",
        "\n",
        "# Mengaplikasikan analisis PCA pada data uji (X_test) dan menyimpan hasilnya di 'X_test_pca'.\n",
        "X_test_pca = pca.fit_transform(X_test)\n",
        "\n"
      ],
      "metadata": {
        "id": "4xnWiMmuMJ3G"
      },
      "execution_count": 7,
      "outputs": []
    },
    {
      "cell_type": "code",
      "source": [
        "# Membuat objek DecisionTreeClassifier dari modul tree yang telah diimpor sebelumnya.\n",
        "model2 = decision_tree.fit(X_train_pca, y_train)\n",
        "\n",
        "# Menghitung dan mencetak skor (akurasi) model kedua pada data uji yang sudah diproses PCA (X_test_pca dan y_test).\n",
        "akurasi_model_kedua = model2.score(X_test_pca, y_test)\n",
        "print(\"Akurasi Model Kedua:\", akurasi_model_kedua)\n"
      ],
      "metadata": {
        "colab": {
          "base_uri": "https://localhost:8080/"
        },
        "id": "Rgpyrk46MIFD",
        "outputId": "a2e2009e-a709-4b2e-cc86-29bfd8bd51b3"
      },
      "execution_count": 8,
      "outputs": [
        {
          "output_type": "stream",
          "name": "stdout",
          "text": [
            "Akurasi Model Kedua: 0.9\n"
          ]
        }
      ]
    }
  ]
}